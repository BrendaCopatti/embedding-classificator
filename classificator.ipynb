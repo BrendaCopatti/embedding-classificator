{
  "nbformat": 4,
  "nbformat_minor": 0,
  "metadata": {
    "colab": {
      "provenance": [],
      "collapsed_sections": [],
      "authorship_tag": "ABX9TyMYbevrwgpBonHn8ChvD7HL",
      "include_colab_link": true
    },
    "kernelspec": {
      "name": "python3",
      "display_name": "Python 3"
    },
    "language_info": {
      "name": "python"
    }
  },
  "cells": [
    {
      "cell_type": "markdown",
      "metadata": {
        "id": "view-in-github",
        "colab_type": "text"
      },
      "source": [
        "<a href=\"https://colab.research.google.com/github/BrendaCopatti/embedding-classificator/blob/main/classificator.ipynb\" target=\"_parent\"><img src=\"https://colab.research.google.com/assets/colab-badge.svg\" alt=\"Open In Colab\"/></a>"
      ]
    },
    {
      "cell_type": "markdown",
      "metadata": {
        "id": "eyMRfSgYnlkl"
      },
      "source": [
        "# ANÁLISE DOS RESULTADOS"
      ]
    },
    {
      "cell_type": "markdown",
      "source": [
        "####Imports GDrive"
      ],
      "metadata": {
        "id": "k_hY1k1DUHM7"
      }
    },
    {
      "cell_type": "code",
      "execution_count": 1,
      "metadata": {
        "id": "mltetpUaqeTn"
      },
      "outputs": [],
      "source": [
        "from google.colab import auth\n",
        "!pip install -U -q PyDrive\n",
        "from pydrive.drive import GoogleDrive\n",
        "from pydrive.auth import GoogleAuth\n",
        "from oauth2client.client import GoogleCredentials"
      ]
    },
    {
      "cell_type": "markdown",
      "source": [
        "####Imports gerais"
      ],
      "metadata": {
        "id": "ssxeYfUJaCQ6"
      }
    },
    {
      "cell_type": "code",
      "source": [
        "import numpy as np\n",
        "import pandas as pd"
      ],
      "metadata": {
        "id": "9sfzppZUZtdc"
      },
      "execution_count": null,
      "outputs": []
    },
    {
      "cell_type": "markdown",
      "source": [
        "####Imports sklearn"
      ],
      "metadata": {
        "id": "em8-78g4aF6U"
      }
    },
    {
      "cell_type": "code",
      "source": [
        "from sklearn.metrics import precision_recall_fscore_support\n",
        "from sklearn.datasets import load_breast_cancer\n",
        "from sklearn.preprocessing import StandardScaler\n",
        "from sklearn.neighbors import KNeighborsClassifier\n",
        "from sklearn.model_selection import train_test_split\n",
        "from sklearn.metrics import accuracy_score\n",
        "from sklearn.pipeline import Pipeline\n",
        "from sklearn.decomposition import PCA\n",
        "from sklearn.model_selection import GridSearchCV\n",
        "from sklearn.tree import DecisionTreeClassifier\n",
        "from sklearn.manifold import TSNE"
      ],
      "metadata": {
        "id": "WXyI79T1ZqLD"
      },
      "execution_count": null,
      "outputs": []
    },
    {
      "cell_type": "markdown",
      "source": [
        "####Realiza leitura do arquivo de embeddings (1x768)"
      ],
      "metadata": {
        "id": "IVC7oyzHaV_s"
      }
    },
    {
      "cell_type": "code",
      "execution_count": 2,
      "metadata": {
        "id": "qXLVcEHEqh-T"
      },
      "outputs": [],
      "source": [
        "auth.authenticate_user()\n",
        "\n",
        "gauth = GoogleAuth()\n",
        "gauth.credentials = GoogleCredentials.get_application_default()\n",
        "drive = GoogleDrive(gauth)"
      ]
    },
    {
      "cell_type": "code",
      "execution_count": 3,
      "metadata": {
        "id": "H1LT7kNNqoQR"
      },
      "outputs": [],
      "source": [
        "df2 = drive.CreateFile({'id': '1-G1APh0r-oztC4XVBgf8woygRNMpfBKx'})\n",
        "df2.GetContentFile('embeddings7.csv')\n",
        "df2 = pd.read_csv('embeddings7.csv', sep = '\\t')"
      ]
    },
    {
      "cell_type": "code",
      "execution_count": 4,
      "metadata": {
        "colab": {
          "base_uri": "https://localhost:8080/",
          "height": 490
        },
        "id": "W28uA6YQrc_K",
        "outputId": "bb68d0d5-917d-4b31-fa21-d26f9b5901e4"
      },
      "outputs": [
        {
          "output_type": "execute_result",
          "data": {
            "text/plain": [
              "   Unnamed: 0   word                                          embedding  \\\n",
              "0           0  [CLS]  [-1.16593230e+00 -2.52016544e+00 -5.23677349e-...   \n",
              "1           1  asset  [ 2.88954663e+00 -4.52684784e+00  3.98254871e-...   \n",
              "2           2   data  [ 1.65825635e-02  3.02072167e+00  2.09216547e+...   \n",
              "3           3   does  [-3.23484206e+00 -2.61225557e+00  2.57662201e+...   \n",
              "4           4    not  [-9.44261134e-01 -3.55083942e+00  4.54151297e+...   \n",
              "\n",
              "          0         1         2         3         4         5         6  ...  \\\n",
              "0 -1.165932 -2.520165 -0.523677 -0.196077 -1.386048 -0.395073 -0.083243  ...   \n",
              "1  2.889547 -4.526848  0.398255 -0.456968  4.570643  0.885770  1.231765  ...   \n",
              "2  0.016583  3.020722  2.092166  1.132092  3.882289  1.284189  2.891476  ...   \n",
              "3 -3.234842 -2.612256  2.576622 -6.168607  1.885877 -4.560091  1.800782  ...   \n",
              "4 -0.944261 -3.550839  4.541513 -0.458323  0.131612 -4.648763  0.325600  ...   \n",
              "\n",
              "        758       759       760       761       762       763       764  \\\n",
              "0 -0.277653 -1.511859 -2.406891 -1.391607  0.006429  0.387169  0.536728   \n",
              "1 -1.857725  0.226846  2.933982  0.389052  0.556354  1.637081 -1.516836   \n",
              "2 -0.272884 -0.105463 -1.105844  0.383917 -2.484640 -1.634177  2.637579   \n",
              "3 -1.774296 -0.832868 -0.484495  3.999647  0.087814 -2.735225  1.936513   \n",
              "4 -1.356838  2.360378 -0.508321  0.106332  1.937134  0.456787  3.110507   \n",
              "\n",
              "        765       766       767  \n",
              "0 -1.606242 -0.479486  2.991496  \n",
              "1 -0.468534 -1.305096 -2.487371  \n",
              "2 -2.734812 -3.537330  0.906016  \n",
              "3 -1.262489  0.049269  3.902515  \n",
              "4  0.049719  2.996107  2.868064  \n",
              "\n",
              "[5 rows x 771 columns]"
            ],
            "text/html": [
              "\n",
              "  <div id=\"df-6541df21-3114-48e0-9e21-d872a805e162\">\n",
              "    <div class=\"colab-df-container\">\n",
              "      <div>\n",
              "<style scoped>\n",
              "    .dataframe tbody tr th:only-of-type {\n",
              "        vertical-align: middle;\n",
              "    }\n",
              "\n",
              "    .dataframe tbody tr th {\n",
              "        vertical-align: top;\n",
              "    }\n",
              "\n",
              "    .dataframe thead th {\n",
              "        text-align: right;\n",
              "    }\n",
              "</style>\n",
              "<table border=\"1\" class=\"dataframe\">\n",
              "  <thead>\n",
              "    <tr style=\"text-align: right;\">\n",
              "      <th></th>\n",
              "      <th>Unnamed: 0</th>\n",
              "      <th>word</th>\n",
              "      <th>embedding</th>\n",
              "      <th>0</th>\n",
              "      <th>1</th>\n",
              "      <th>2</th>\n",
              "      <th>3</th>\n",
              "      <th>4</th>\n",
              "      <th>5</th>\n",
              "      <th>6</th>\n",
              "      <th>...</th>\n",
              "      <th>758</th>\n",
              "      <th>759</th>\n",
              "      <th>760</th>\n",
              "      <th>761</th>\n",
              "      <th>762</th>\n",
              "      <th>763</th>\n",
              "      <th>764</th>\n",
              "      <th>765</th>\n",
              "      <th>766</th>\n",
              "      <th>767</th>\n",
              "    </tr>\n",
              "  </thead>\n",
              "  <tbody>\n",
              "    <tr>\n",
              "      <th>0</th>\n",
              "      <td>0</td>\n",
              "      <td>[CLS]</td>\n",
              "      <td>[-1.16593230e+00 -2.52016544e+00 -5.23677349e-...</td>\n",
              "      <td>-1.165932</td>\n",
              "      <td>-2.520165</td>\n",
              "      <td>-0.523677</td>\n",
              "      <td>-0.196077</td>\n",
              "      <td>-1.386048</td>\n",
              "      <td>-0.395073</td>\n",
              "      <td>-0.083243</td>\n",
              "      <td>...</td>\n",
              "      <td>-0.277653</td>\n",
              "      <td>-1.511859</td>\n",
              "      <td>-2.406891</td>\n",
              "      <td>-1.391607</td>\n",
              "      <td>0.006429</td>\n",
              "      <td>0.387169</td>\n",
              "      <td>0.536728</td>\n",
              "      <td>-1.606242</td>\n",
              "      <td>-0.479486</td>\n",
              "      <td>2.991496</td>\n",
              "    </tr>\n",
              "    <tr>\n",
              "      <th>1</th>\n",
              "      <td>1</td>\n",
              "      <td>asset</td>\n",
              "      <td>[ 2.88954663e+00 -4.52684784e+00  3.98254871e-...</td>\n",
              "      <td>2.889547</td>\n",
              "      <td>-4.526848</td>\n",
              "      <td>0.398255</td>\n",
              "      <td>-0.456968</td>\n",
              "      <td>4.570643</td>\n",
              "      <td>0.885770</td>\n",
              "      <td>1.231765</td>\n",
              "      <td>...</td>\n",
              "      <td>-1.857725</td>\n",
              "      <td>0.226846</td>\n",
              "      <td>2.933982</td>\n",
              "      <td>0.389052</td>\n",
              "      <td>0.556354</td>\n",
              "      <td>1.637081</td>\n",
              "      <td>-1.516836</td>\n",
              "      <td>-0.468534</td>\n",
              "      <td>-1.305096</td>\n",
              "      <td>-2.487371</td>\n",
              "    </tr>\n",
              "    <tr>\n",
              "      <th>2</th>\n",
              "      <td>2</td>\n",
              "      <td>data</td>\n",
              "      <td>[ 1.65825635e-02  3.02072167e+00  2.09216547e+...</td>\n",
              "      <td>0.016583</td>\n",
              "      <td>3.020722</td>\n",
              "      <td>2.092166</td>\n",
              "      <td>1.132092</td>\n",
              "      <td>3.882289</td>\n",
              "      <td>1.284189</td>\n",
              "      <td>2.891476</td>\n",
              "      <td>...</td>\n",
              "      <td>-0.272884</td>\n",
              "      <td>-0.105463</td>\n",
              "      <td>-1.105844</td>\n",
              "      <td>0.383917</td>\n",
              "      <td>-2.484640</td>\n",
              "      <td>-1.634177</td>\n",
              "      <td>2.637579</td>\n",
              "      <td>-2.734812</td>\n",
              "      <td>-3.537330</td>\n",
              "      <td>0.906016</td>\n",
              "    </tr>\n",
              "    <tr>\n",
              "      <th>3</th>\n",
              "      <td>3</td>\n",
              "      <td>does</td>\n",
              "      <td>[-3.23484206e+00 -2.61225557e+00  2.57662201e+...</td>\n",
              "      <td>-3.234842</td>\n",
              "      <td>-2.612256</td>\n",
              "      <td>2.576622</td>\n",
              "      <td>-6.168607</td>\n",
              "      <td>1.885877</td>\n",
              "      <td>-4.560091</td>\n",
              "      <td>1.800782</td>\n",
              "      <td>...</td>\n",
              "      <td>-1.774296</td>\n",
              "      <td>-0.832868</td>\n",
              "      <td>-0.484495</td>\n",
              "      <td>3.999647</td>\n",
              "      <td>0.087814</td>\n",
              "      <td>-2.735225</td>\n",
              "      <td>1.936513</td>\n",
              "      <td>-1.262489</td>\n",
              "      <td>0.049269</td>\n",
              "      <td>3.902515</td>\n",
              "    </tr>\n",
              "    <tr>\n",
              "      <th>4</th>\n",
              "      <td>4</td>\n",
              "      <td>not</td>\n",
              "      <td>[-9.44261134e-01 -3.55083942e+00  4.54151297e+...</td>\n",
              "      <td>-0.944261</td>\n",
              "      <td>-3.550839</td>\n",
              "      <td>4.541513</td>\n",
              "      <td>-0.458323</td>\n",
              "      <td>0.131612</td>\n",
              "      <td>-4.648763</td>\n",
              "      <td>0.325600</td>\n",
              "      <td>...</td>\n",
              "      <td>-1.356838</td>\n",
              "      <td>2.360378</td>\n",
              "      <td>-0.508321</td>\n",
              "      <td>0.106332</td>\n",
              "      <td>1.937134</td>\n",
              "      <td>0.456787</td>\n",
              "      <td>3.110507</td>\n",
              "      <td>0.049719</td>\n",
              "      <td>2.996107</td>\n",
              "      <td>2.868064</td>\n",
              "    </tr>\n",
              "  </tbody>\n",
              "</table>\n",
              "<p>5 rows × 771 columns</p>\n",
              "</div>\n",
              "      <button class=\"colab-df-convert\" onclick=\"convertToInteractive('df-6541df21-3114-48e0-9e21-d872a805e162')\"\n",
              "              title=\"Convert this dataframe to an interactive table.\"\n",
              "              style=\"display:none;\">\n",
              "        \n",
              "  <svg xmlns=\"http://www.w3.org/2000/svg\" height=\"24px\"viewBox=\"0 0 24 24\"\n",
              "       width=\"24px\">\n",
              "    <path d=\"M0 0h24v24H0V0z\" fill=\"none\"/>\n",
              "    <path d=\"M18.56 5.44l.94 2.06.94-2.06 2.06-.94-2.06-.94-.94-2.06-.94 2.06-2.06.94zm-11 1L8.5 8.5l.94-2.06 2.06-.94-2.06-.94L8.5 2.5l-.94 2.06-2.06.94zm10 10l.94 2.06.94-2.06 2.06-.94-2.06-.94-.94-2.06-.94 2.06-2.06.94z\"/><path d=\"M17.41 7.96l-1.37-1.37c-.4-.4-.92-.59-1.43-.59-.52 0-1.04.2-1.43.59L10.3 9.45l-7.72 7.72c-.78.78-.78 2.05 0 2.83L4 21.41c.39.39.9.59 1.41.59.51 0 1.02-.2 1.41-.59l7.78-7.78 2.81-2.81c.8-.78.8-2.07 0-2.86zM5.41 20L4 18.59l7.72-7.72 1.47 1.35L5.41 20z\"/>\n",
              "  </svg>\n",
              "      </button>\n",
              "      \n",
              "  <style>\n",
              "    .colab-df-container {\n",
              "      display:flex;\n",
              "      flex-wrap:wrap;\n",
              "      gap: 12px;\n",
              "    }\n",
              "\n",
              "    .colab-df-convert {\n",
              "      background-color: #E8F0FE;\n",
              "      border: none;\n",
              "      border-radius: 50%;\n",
              "      cursor: pointer;\n",
              "      display: none;\n",
              "      fill: #1967D2;\n",
              "      height: 32px;\n",
              "      padding: 0 0 0 0;\n",
              "      width: 32px;\n",
              "    }\n",
              "\n",
              "    .colab-df-convert:hover {\n",
              "      background-color: #E2EBFA;\n",
              "      box-shadow: 0px 1px 2px rgba(60, 64, 67, 0.3), 0px 1px 3px 1px rgba(60, 64, 67, 0.15);\n",
              "      fill: #174EA6;\n",
              "    }\n",
              "\n",
              "    [theme=dark] .colab-df-convert {\n",
              "      background-color: #3B4455;\n",
              "      fill: #D2E3FC;\n",
              "    }\n",
              "\n",
              "    [theme=dark] .colab-df-convert:hover {\n",
              "      background-color: #434B5C;\n",
              "      box-shadow: 0px 1px 3px 1px rgba(0, 0, 0, 0.15);\n",
              "      filter: drop-shadow(0px 1px 2px rgba(0, 0, 0, 0.3));\n",
              "      fill: #FFFFFF;\n",
              "    }\n",
              "  </style>\n",
              "\n",
              "      <script>\n",
              "        const buttonEl =\n",
              "          document.querySelector('#df-6541df21-3114-48e0-9e21-d872a805e162 button.colab-df-convert');\n",
              "        buttonEl.style.display =\n",
              "          google.colab.kernel.accessAllowed ? 'block' : 'none';\n",
              "\n",
              "        async function convertToInteractive(key) {\n",
              "          const element = document.querySelector('#df-6541df21-3114-48e0-9e21-d872a805e162');\n",
              "          const dataTable =\n",
              "            await google.colab.kernel.invokeFunction('convertToInteractive',\n",
              "                                                     [key], {});\n",
              "          if (!dataTable) return;\n",
              "\n",
              "          const docLinkHtml = 'Like what you see? Visit the ' +\n",
              "            '<a target=\"_blank\" href=https://colab.research.google.com/notebooks/data_table.ipynb>data table notebook</a>'\n",
              "            + ' to learn more about interactive tables.';\n",
              "          element.innerHTML = '';\n",
              "          dataTable['output_type'] = 'display_data';\n",
              "          await google.colab.output.renderOutput(dataTable, element);\n",
              "          const docLink = document.createElement('div');\n",
              "          docLink.innerHTML = docLinkHtml;\n",
              "          element.appendChild(docLink);\n",
              "        }\n",
              "      </script>\n",
              "    </div>\n",
              "  </div>\n",
              "  "
            ]
          },
          "metadata": {},
          "execution_count": 4
        }
      ],
      "source": [
        "df2.head()"
      ]
    },
    {
      "cell_type": "code",
      "source": [
        "df2.iloc[:, 3:]"
      ],
      "metadata": {
        "colab": {
          "base_uri": "https://localhost:8080/",
          "height": 488
        },
        "id": "n8quq3iRk0Yo",
        "outputId": "866c1100-13f2-4336-a027-8f693ce68bbd"
      },
      "execution_count": 5,
      "outputs": [
        {
          "output_type": "execute_result",
          "data": {
            "text/plain": [
              "              0         1         2         3         4         5         6  \\\n",
              "0     -1.165932 -2.520165 -0.523677 -0.196077 -1.386048 -0.395073 -0.083243   \n",
              "1      2.889547 -4.526848  0.398255 -0.456968  4.570643  0.885770  1.231765   \n",
              "2      0.016583  3.020722  2.092166  1.132092  3.882289  1.284189  2.891476   \n",
              "3     -3.234842 -2.612256  2.576622 -6.168607  1.885877 -4.560091  1.800782   \n",
              "4     -0.944261 -3.550839  4.541513 -0.458323  0.131612 -4.648763  0.325600   \n",
              "...         ...       ...       ...       ...       ...       ...       ...   \n",
              "12056 -0.820400 -4.692802  1.720867  0.631661 -4.051704 -0.925734  1.350187   \n",
              "12057  3.266142 -5.219947  2.223316 -0.942467  0.928601 -2.086003 -3.642120   \n",
              "12058 -1.828222 -4.113334  1.754712  1.343384  4.679567 -3.096134  2.274464   \n",
              "12059 -0.555390 -1.136154 -0.729645  0.077940 -0.967427 -5.037321  2.225729   \n",
              "12060 -0.717398  0.468913  2.583965 -0.746981  0.222455 -3.862823  1.063323   \n",
              "\n",
              "              7         8         9  ...       758       759       760  \\\n",
              "0      0.056204 -1.239562 -1.029089  ... -0.277653 -1.511859 -2.406891   \n",
              "1      1.497142  1.114057 -3.063864  ... -1.857725  0.226846  2.933982   \n",
              "2      1.267866  1.950761  3.014262  ... -0.272884 -0.105463 -1.105844   \n",
              "3     -0.285959  0.612445  2.141300  ... -1.774296 -0.832868 -0.484495   \n",
              "4      2.853247  2.338148 -0.589544  ... -1.356838  2.360378 -0.508321   \n",
              "...         ...       ...       ...  ...       ...       ...       ...   \n",
              "12056 -2.972397  0.448450  2.583388  ... -1.254266 -2.142297  1.363224   \n",
              "12057 -1.378261 -1.517825  3.241320  ...  0.317764  0.534057 -2.893503   \n",
              "12058 -0.271045 -0.828277  1.595095  ... -0.896423 -4.787981 -0.118785   \n",
              "12059 -0.914290 -0.893496 -0.818441  ...  2.642987  1.360863 -0.319173   \n",
              "12060  0.926815  1.039590  1.037353  ... -2.776420  1.138515  2.381561   \n",
              "\n",
              "            761       762       763       764       765       766       767  \n",
              "0     -1.391607  0.006429  0.387169  0.536728 -1.606242 -0.479486  2.991496  \n",
              "1      0.389052  0.556354  1.637081 -1.516836 -0.468534 -1.305096 -2.487371  \n",
              "2      0.383917 -2.484640 -1.634177  2.637579 -2.734812 -3.537330  0.906016  \n",
              "3      3.999647  0.087814 -2.735225  1.936513 -1.262489  0.049269  3.902515  \n",
              "4      0.106332  1.937134  0.456787  3.110507  0.049719  2.996107  2.868064  \n",
              "...         ...       ...       ...       ...       ...       ...       ...  \n",
              "12056 -0.248794 -5.183494  1.145549 -0.457892 -1.989792 -1.203486 -1.226256  \n",
              "12057 -1.153612  3.205710  3.676596  0.984629  0.303725  0.266877  0.819345  \n",
              "12058 -1.269734 -4.993939 -0.220703 -1.846077  0.593934 -0.042265  4.414529  \n",
              "12059 -2.225614  2.521098  0.555902  0.041170  0.332637 -1.450806  1.101676  \n",
              "12060 -0.102951  0.026878 -0.049015 -2.195829 -1.036274 -0.225836 -1.840657  \n",
              "\n",
              "[12061 rows x 768 columns]"
            ],
            "text/html": [
              "\n",
              "  <div id=\"df-a6763bc1-b418-4334-b8fd-e2b4bf31a929\">\n",
              "    <div class=\"colab-df-container\">\n",
              "      <div>\n",
              "<style scoped>\n",
              "    .dataframe tbody tr th:only-of-type {\n",
              "        vertical-align: middle;\n",
              "    }\n",
              "\n",
              "    .dataframe tbody tr th {\n",
              "        vertical-align: top;\n",
              "    }\n",
              "\n",
              "    .dataframe thead th {\n",
              "        text-align: right;\n",
              "    }\n",
              "</style>\n",
              "<table border=\"1\" class=\"dataframe\">\n",
              "  <thead>\n",
              "    <tr style=\"text-align: right;\">\n",
              "      <th></th>\n",
              "      <th>0</th>\n",
              "      <th>1</th>\n",
              "      <th>2</th>\n",
              "      <th>3</th>\n",
              "      <th>4</th>\n",
              "      <th>5</th>\n",
              "      <th>6</th>\n",
              "      <th>7</th>\n",
              "      <th>8</th>\n",
              "      <th>9</th>\n",
              "      <th>...</th>\n",
              "      <th>758</th>\n",
              "      <th>759</th>\n",
              "      <th>760</th>\n",
              "      <th>761</th>\n",
              "      <th>762</th>\n",
              "      <th>763</th>\n",
              "      <th>764</th>\n",
              "      <th>765</th>\n",
              "      <th>766</th>\n",
              "      <th>767</th>\n",
              "    </tr>\n",
              "  </thead>\n",
              "  <tbody>\n",
              "    <tr>\n",
              "      <th>0</th>\n",
              "      <td>-1.165932</td>\n",
              "      <td>-2.520165</td>\n",
              "      <td>-0.523677</td>\n",
              "      <td>-0.196077</td>\n",
              "      <td>-1.386048</td>\n",
              "      <td>-0.395073</td>\n",
              "      <td>-0.083243</td>\n",
              "      <td>0.056204</td>\n",
              "      <td>-1.239562</td>\n",
              "      <td>-1.029089</td>\n",
              "      <td>...</td>\n",
              "      <td>-0.277653</td>\n",
              "      <td>-1.511859</td>\n",
              "      <td>-2.406891</td>\n",
              "      <td>-1.391607</td>\n",
              "      <td>0.006429</td>\n",
              "      <td>0.387169</td>\n",
              "      <td>0.536728</td>\n",
              "      <td>-1.606242</td>\n",
              "      <td>-0.479486</td>\n",
              "      <td>2.991496</td>\n",
              "    </tr>\n",
              "    <tr>\n",
              "      <th>1</th>\n",
              "      <td>2.889547</td>\n",
              "      <td>-4.526848</td>\n",
              "      <td>0.398255</td>\n",
              "      <td>-0.456968</td>\n",
              "      <td>4.570643</td>\n",
              "      <td>0.885770</td>\n",
              "      <td>1.231765</td>\n",
              "      <td>1.497142</td>\n",
              "      <td>1.114057</td>\n",
              "      <td>-3.063864</td>\n",
              "      <td>...</td>\n",
              "      <td>-1.857725</td>\n",
              "      <td>0.226846</td>\n",
              "      <td>2.933982</td>\n",
              "      <td>0.389052</td>\n",
              "      <td>0.556354</td>\n",
              "      <td>1.637081</td>\n",
              "      <td>-1.516836</td>\n",
              "      <td>-0.468534</td>\n",
              "      <td>-1.305096</td>\n",
              "      <td>-2.487371</td>\n",
              "    </tr>\n",
              "    <tr>\n",
              "      <th>2</th>\n",
              "      <td>0.016583</td>\n",
              "      <td>3.020722</td>\n",
              "      <td>2.092166</td>\n",
              "      <td>1.132092</td>\n",
              "      <td>3.882289</td>\n",
              "      <td>1.284189</td>\n",
              "      <td>2.891476</td>\n",
              "      <td>1.267866</td>\n",
              "      <td>1.950761</td>\n",
              "      <td>3.014262</td>\n",
              "      <td>...</td>\n",
              "      <td>-0.272884</td>\n",
              "      <td>-0.105463</td>\n",
              "      <td>-1.105844</td>\n",
              "      <td>0.383917</td>\n",
              "      <td>-2.484640</td>\n",
              "      <td>-1.634177</td>\n",
              "      <td>2.637579</td>\n",
              "      <td>-2.734812</td>\n",
              "      <td>-3.537330</td>\n",
              "      <td>0.906016</td>\n",
              "    </tr>\n",
              "    <tr>\n",
              "      <th>3</th>\n",
              "      <td>-3.234842</td>\n",
              "      <td>-2.612256</td>\n",
              "      <td>2.576622</td>\n",
              "      <td>-6.168607</td>\n",
              "      <td>1.885877</td>\n",
              "      <td>-4.560091</td>\n",
              "      <td>1.800782</td>\n",
              "      <td>-0.285959</td>\n",
              "      <td>0.612445</td>\n",
              "      <td>2.141300</td>\n",
              "      <td>...</td>\n",
              "      <td>-1.774296</td>\n",
              "      <td>-0.832868</td>\n",
              "      <td>-0.484495</td>\n",
              "      <td>3.999647</td>\n",
              "      <td>0.087814</td>\n",
              "      <td>-2.735225</td>\n",
              "      <td>1.936513</td>\n",
              "      <td>-1.262489</td>\n",
              "      <td>0.049269</td>\n",
              "      <td>3.902515</td>\n",
              "    </tr>\n",
              "    <tr>\n",
              "      <th>4</th>\n",
              "      <td>-0.944261</td>\n",
              "      <td>-3.550839</td>\n",
              "      <td>4.541513</td>\n",
              "      <td>-0.458323</td>\n",
              "      <td>0.131612</td>\n",
              "      <td>-4.648763</td>\n",
              "      <td>0.325600</td>\n",
              "      <td>2.853247</td>\n",
              "      <td>2.338148</td>\n",
              "      <td>-0.589544</td>\n",
              "      <td>...</td>\n",
              "      <td>-1.356838</td>\n",
              "      <td>2.360378</td>\n",
              "      <td>-0.508321</td>\n",
              "      <td>0.106332</td>\n",
              "      <td>1.937134</td>\n",
              "      <td>0.456787</td>\n",
              "      <td>3.110507</td>\n",
              "      <td>0.049719</td>\n",
              "      <td>2.996107</td>\n",
              "      <td>2.868064</td>\n",
              "    </tr>\n",
              "    <tr>\n",
              "      <th>...</th>\n",
              "      <td>...</td>\n",
              "      <td>...</td>\n",
              "      <td>...</td>\n",
              "      <td>...</td>\n",
              "      <td>...</td>\n",
              "      <td>...</td>\n",
              "      <td>...</td>\n",
              "      <td>...</td>\n",
              "      <td>...</td>\n",
              "      <td>...</td>\n",
              "      <td>...</td>\n",
              "      <td>...</td>\n",
              "      <td>...</td>\n",
              "      <td>...</td>\n",
              "      <td>...</td>\n",
              "      <td>...</td>\n",
              "      <td>...</td>\n",
              "      <td>...</td>\n",
              "      <td>...</td>\n",
              "      <td>...</td>\n",
              "      <td>...</td>\n",
              "    </tr>\n",
              "    <tr>\n",
              "      <th>12056</th>\n",
              "      <td>-0.820400</td>\n",
              "      <td>-4.692802</td>\n",
              "      <td>1.720867</td>\n",
              "      <td>0.631661</td>\n",
              "      <td>-4.051704</td>\n",
              "      <td>-0.925734</td>\n",
              "      <td>1.350187</td>\n",
              "      <td>-2.972397</td>\n",
              "      <td>0.448450</td>\n",
              "      <td>2.583388</td>\n",
              "      <td>...</td>\n",
              "      <td>-1.254266</td>\n",
              "      <td>-2.142297</td>\n",
              "      <td>1.363224</td>\n",
              "      <td>-0.248794</td>\n",
              "      <td>-5.183494</td>\n",
              "      <td>1.145549</td>\n",
              "      <td>-0.457892</td>\n",
              "      <td>-1.989792</td>\n",
              "      <td>-1.203486</td>\n",
              "      <td>-1.226256</td>\n",
              "    </tr>\n",
              "    <tr>\n",
              "      <th>12057</th>\n",
              "      <td>3.266142</td>\n",
              "      <td>-5.219947</td>\n",
              "      <td>2.223316</td>\n",
              "      <td>-0.942467</td>\n",
              "      <td>0.928601</td>\n",
              "      <td>-2.086003</td>\n",
              "      <td>-3.642120</td>\n",
              "      <td>-1.378261</td>\n",
              "      <td>-1.517825</td>\n",
              "      <td>3.241320</td>\n",
              "      <td>...</td>\n",
              "      <td>0.317764</td>\n",
              "      <td>0.534057</td>\n",
              "      <td>-2.893503</td>\n",
              "      <td>-1.153612</td>\n",
              "      <td>3.205710</td>\n",
              "      <td>3.676596</td>\n",
              "      <td>0.984629</td>\n",
              "      <td>0.303725</td>\n",
              "      <td>0.266877</td>\n",
              "      <td>0.819345</td>\n",
              "    </tr>\n",
              "    <tr>\n",
              "      <th>12058</th>\n",
              "      <td>-1.828222</td>\n",
              "      <td>-4.113334</td>\n",
              "      <td>1.754712</td>\n",
              "      <td>1.343384</td>\n",
              "      <td>4.679567</td>\n",
              "      <td>-3.096134</td>\n",
              "      <td>2.274464</td>\n",
              "      <td>-0.271045</td>\n",
              "      <td>-0.828277</td>\n",
              "      <td>1.595095</td>\n",
              "      <td>...</td>\n",
              "      <td>-0.896423</td>\n",
              "      <td>-4.787981</td>\n",
              "      <td>-0.118785</td>\n",
              "      <td>-1.269734</td>\n",
              "      <td>-4.993939</td>\n",
              "      <td>-0.220703</td>\n",
              "      <td>-1.846077</td>\n",
              "      <td>0.593934</td>\n",
              "      <td>-0.042265</td>\n",
              "      <td>4.414529</td>\n",
              "    </tr>\n",
              "    <tr>\n",
              "      <th>12059</th>\n",
              "      <td>-0.555390</td>\n",
              "      <td>-1.136154</td>\n",
              "      <td>-0.729645</td>\n",
              "      <td>0.077940</td>\n",
              "      <td>-0.967427</td>\n",
              "      <td>-5.037321</td>\n",
              "      <td>2.225729</td>\n",
              "      <td>-0.914290</td>\n",
              "      <td>-0.893496</td>\n",
              "      <td>-0.818441</td>\n",
              "      <td>...</td>\n",
              "      <td>2.642987</td>\n",
              "      <td>1.360863</td>\n",
              "      <td>-0.319173</td>\n",
              "      <td>-2.225614</td>\n",
              "      <td>2.521098</td>\n",
              "      <td>0.555902</td>\n",
              "      <td>0.041170</td>\n",
              "      <td>0.332637</td>\n",
              "      <td>-1.450806</td>\n",
              "      <td>1.101676</td>\n",
              "    </tr>\n",
              "    <tr>\n",
              "      <th>12060</th>\n",
              "      <td>-0.717398</td>\n",
              "      <td>0.468913</td>\n",
              "      <td>2.583965</td>\n",
              "      <td>-0.746981</td>\n",
              "      <td>0.222455</td>\n",
              "      <td>-3.862823</td>\n",
              "      <td>1.063323</td>\n",
              "      <td>0.926815</td>\n",
              "      <td>1.039590</td>\n",
              "      <td>1.037353</td>\n",
              "      <td>...</td>\n",
              "      <td>-2.776420</td>\n",
              "      <td>1.138515</td>\n",
              "      <td>2.381561</td>\n",
              "      <td>-0.102951</td>\n",
              "      <td>0.026878</td>\n",
              "      <td>-0.049015</td>\n",
              "      <td>-2.195829</td>\n",
              "      <td>-1.036274</td>\n",
              "      <td>-0.225836</td>\n",
              "      <td>-1.840657</td>\n",
              "    </tr>\n",
              "  </tbody>\n",
              "</table>\n",
              "<p>12061 rows × 768 columns</p>\n",
              "</div>\n",
              "      <button class=\"colab-df-convert\" onclick=\"convertToInteractive('df-a6763bc1-b418-4334-b8fd-e2b4bf31a929')\"\n",
              "              title=\"Convert this dataframe to an interactive table.\"\n",
              "              style=\"display:none;\">\n",
              "        \n",
              "  <svg xmlns=\"http://www.w3.org/2000/svg\" height=\"24px\"viewBox=\"0 0 24 24\"\n",
              "       width=\"24px\">\n",
              "    <path d=\"M0 0h24v24H0V0z\" fill=\"none\"/>\n",
              "    <path d=\"M18.56 5.44l.94 2.06.94-2.06 2.06-.94-2.06-.94-.94-2.06-.94 2.06-2.06.94zm-11 1L8.5 8.5l.94-2.06 2.06-.94-2.06-.94L8.5 2.5l-.94 2.06-2.06.94zm10 10l.94 2.06.94-2.06 2.06-.94-2.06-.94-.94-2.06-.94 2.06-2.06.94z\"/><path d=\"M17.41 7.96l-1.37-1.37c-.4-.4-.92-.59-1.43-.59-.52 0-1.04.2-1.43.59L10.3 9.45l-7.72 7.72c-.78.78-.78 2.05 0 2.83L4 21.41c.39.39.9.59 1.41.59.51 0 1.02-.2 1.41-.59l7.78-7.78 2.81-2.81c.8-.78.8-2.07 0-2.86zM5.41 20L4 18.59l7.72-7.72 1.47 1.35L5.41 20z\"/>\n",
              "  </svg>\n",
              "      </button>\n",
              "      \n",
              "  <style>\n",
              "    .colab-df-container {\n",
              "      display:flex;\n",
              "      flex-wrap:wrap;\n",
              "      gap: 12px;\n",
              "    }\n",
              "\n",
              "    .colab-df-convert {\n",
              "      background-color: #E8F0FE;\n",
              "      border: none;\n",
              "      border-radius: 50%;\n",
              "      cursor: pointer;\n",
              "      display: none;\n",
              "      fill: #1967D2;\n",
              "      height: 32px;\n",
              "      padding: 0 0 0 0;\n",
              "      width: 32px;\n",
              "    }\n",
              "\n",
              "    .colab-df-convert:hover {\n",
              "      background-color: #E2EBFA;\n",
              "      box-shadow: 0px 1px 2px rgba(60, 64, 67, 0.3), 0px 1px 3px 1px rgba(60, 64, 67, 0.15);\n",
              "      fill: #174EA6;\n",
              "    }\n",
              "\n",
              "    [theme=dark] .colab-df-convert {\n",
              "      background-color: #3B4455;\n",
              "      fill: #D2E3FC;\n",
              "    }\n",
              "\n",
              "    [theme=dark] .colab-df-convert:hover {\n",
              "      background-color: #434B5C;\n",
              "      box-shadow: 0px 1px 3px 1px rgba(0, 0, 0, 0.15);\n",
              "      filter: drop-shadow(0px 1px 2px rgba(0, 0, 0, 0.3));\n",
              "      fill: #FFFFFF;\n",
              "    }\n",
              "  </style>\n",
              "\n",
              "      <script>\n",
              "        const buttonEl =\n",
              "          document.querySelector('#df-a6763bc1-b418-4334-b8fd-e2b4bf31a929 button.colab-df-convert');\n",
              "        buttonEl.style.display =\n",
              "          google.colab.kernel.accessAllowed ? 'block' : 'none';\n",
              "\n",
              "        async function convertToInteractive(key) {\n",
              "          const element = document.querySelector('#df-a6763bc1-b418-4334-b8fd-e2b4bf31a929');\n",
              "          const dataTable =\n",
              "            await google.colab.kernel.invokeFunction('convertToInteractive',\n",
              "                                                     [key], {});\n",
              "          if (!dataTable) return;\n",
              "\n",
              "          const docLinkHtml = 'Like what you see? Visit the ' +\n",
              "            '<a target=\"_blank\" href=https://colab.research.google.com/notebooks/data_table.ipynb>data table notebook</a>'\n",
              "            + ' to learn more about interactive tables.';\n",
              "          element.innerHTML = '';\n",
              "          dataTable['output_type'] = 'display_data';\n",
              "          await google.colab.output.renderOutput(dataTable, element);\n",
              "          const docLink = document.createElement('div');\n",
              "          docLink.innerHTML = docLinkHtml;\n",
              "          element.appendChild(docLink);\n",
              "        }\n",
              "      </script>\n",
              "    </div>\n",
              "  </div>\n",
              "  "
            ]
          },
          "metadata": {},
          "execution_count": 5
        }
      ]
    },
    {
      "cell_type": "markdown",
      "source": [
        "####Utilizando redutor TSNE"
      ],
      "metadata": {
        "id": "-fWdyTz5a9AE"
      }
    },
    {
      "cell_type": "code",
      "source": [
        "X = np.array(df2.iloc[:, 3:])\n",
        "X.shape"
      ],
      "metadata": {
        "id": "M4LI9kmXkvl5",
        "colab": {
          "base_uri": "https://localhost:8080/"
        },
        "outputId": "e0683957-4d17-4510-8a52-1c2ba2c693a3"
      },
      "execution_count": 6,
      "outputs": [
        {
          "output_type": "execute_result",
          "data": {
            "text/plain": [
              "(12061, 768)"
            ]
          },
          "metadata": {},
          "execution_count": 6
        }
      ]
    },
    {
      "cell_type": "code",
      "source": [
        "t_sne = TSNE(n_components=2, learning_rate='auto',init='random')\n",
        "X_embedded= t_sne.fit_transform(X)\n",
        "X_embedded.shape"
      ],
      "metadata": {
        "id": "5f5Q-swDkqp7",
        "colab": {
          "base_uri": "https://localhost:8080/"
        },
        "outputId": "44e6412c-ba7a-4468-a29b-d4f9ec716d9e"
      },
      "execution_count": 7,
      "outputs": [
        {
          "output_type": "execute_result",
          "data": {
            "text/plain": [
              "(12061, 2)"
            ]
          },
          "metadata": {},
          "execution_count": 7
        }
      ]
    },
    {
      "cell_type": "code",
      "source": [
        "df = pd.DataFrame(X_embedded, columns=['x', 'y'])"
      ],
      "metadata": {
        "id": "ziP-QJo8Opho"
      },
      "execution_count": 8,
      "outputs": []
    },
    {
      "cell_type": "code",
      "source": [
        "df['word'] = ''\n",
        "\n",
        "for index, row in df2.iterrows():\n",
        "    df['word']= df2['word']"
      ],
      "metadata": {
        "id": "T581KbX_OuI1"
      },
      "execution_count": 9,
      "outputs": []
    },
    {
      "cell_type": "code",
      "source": [
        "df.head()"
      ],
      "metadata": {
        "colab": {
          "base_uri": "https://localhost:8080/",
          "height": 206
        },
        "id": "EneOvRZjPcfB",
        "outputId": "f343bef3-f955-44f6-ca3a-1c64f914b477"
      },
      "execution_count": 10,
      "outputs": [
        {
          "output_type": "execute_result",
          "data": {
            "text/plain": [
              "           x          y   word\n",
              "0   9.866446  54.241261  [CLS]\n",
              "1   0.819189  23.220118  asset\n",
              "2 -19.974607  25.107140   data\n",
              "3 -74.819405 -13.848521   does\n",
              "4 -65.277641  25.752764    not"
            ],
            "text/html": [
              "\n",
              "  <div id=\"df-ede0e5e3-6bed-4e3d-a40b-e33803a25c1b\">\n",
              "    <div class=\"colab-df-container\">\n",
              "      <div>\n",
              "<style scoped>\n",
              "    .dataframe tbody tr th:only-of-type {\n",
              "        vertical-align: middle;\n",
              "    }\n",
              "\n",
              "    .dataframe tbody tr th {\n",
              "        vertical-align: top;\n",
              "    }\n",
              "\n",
              "    .dataframe thead th {\n",
              "        text-align: right;\n",
              "    }\n",
              "</style>\n",
              "<table border=\"1\" class=\"dataframe\">\n",
              "  <thead>\n",
              "    <tr style=\"text-align: right;\">\n",
              "      <th></th>\n",
              "      <th>x</th>\n",
              "      <th>y</th>\n",
              "      <th>word</th>\n",
              "    </tr>\n",
              "  </thead>\n",
              "  <tbody>\n",
              "    <tr>\n",
              "      <th>0</th>\n",
              "      <td>9.866446</td>\n",
              "      <td>54.241261</td>\n",
              "      <td>[CLS]</td>\n",
              "    </tr>\n",
              "    <tr>\n",
              "      <th>1</th>\n",
              "      <td>0.819189</td>\n",
              "      <td>23.220118</td>\n",
              "      <td>asset</td>\n",
              "    </tr>\n",
              "    <tr>\n",
              "      <th>2</th>\n",
              "      <td>-19.974607</td>\n",
              "      <td>25.107140</td>\n",
              "      <td>data</td>\n",
              "    </tr>\n",
              "    <tr>\n",
              "      <th>3</th>\n",
              "      <td>-74.819405</td>\n",
              "      <td>-13.848521</td>\n",
              "      <td>does</td>\n",
              "    </tr>\n",
              "    <tr>\n",
              "      <th>4</th>\n",
              "      <td>-65.277641</td>\n",
              "      <td>25.752764</td>\n",
              "      <td>not</td>\n",
              "    </tr>\n",
              "  </tbody>\n",
              "</table>\n",
              "</div>\n",
              "      <button class=\"colab-df-convert\" onclick=\"convertToInteractive('df-ede0e5e3-6bed-4e3d-a40b-e33803a25c1b')\"\n",
              "              title=\"Convert this dataframe to an interactive table.\"\n",
              "              style=\"display:none;\">\n",
              "        \n",
              "  <svg xmlns=\"http://www.w3.org/2000/svg\" height=\"24px\"viewBox=\"0 0 24 24\"\n",
              "       width=\"24px\">\n",
              "    <path d=\"M0 0h24v24H0V0z\" fill=\"none\"/>\n",
              "    <path d=\"M18.56 5.44l.94 2.06.94-2.06 2.06-.94-2.06-.94-.94-2.06-.94 2.06-2.06.94zm-11 1L8.5 8.5l.94-2.06 2.06-.94-2.06-.94L8.5 2.5l-.94 2.06-2.06.94zm10 10l.94 2.06.94-2.06 2.06-.94-2.06-.94-.94-2.06-.94 2.06-2.06.94z\"/><path d=\"M17.41 7.96l-1.37-1.37c-.4-.4-.92-.59-1.43-.59-.52 0-1.04.2-1.43.59L10.3 9.45l-7.72 7.72c-.78.78-.78 2.05 0 2.83L4 21.41c.39.39.9.59 1.41.59.51 0 1.02-.2 1.41-.59l7.78-7.78 2.81-2.81c.8-.78.8-2.07 0-2.86zM5.41 20L4 18.59l7.72-7.72 1.47 1.35L5.41 20z\"/>\n",
              "  </svg>\n",
              "      </button>\n",
              "      \n",
              "  <style>\n",
              "    .colab-df-container {\n",
              "      display:flex;\n",
              "      flex-wrap:wrap;\n",
              "      gap: 12px;\n",
              "    }\n",
              "\n",
              "    .colab-df-convert {\n",
              "      background-color: #E8F0FE;\n",
              "      border: none;\n",
              "      border-radius: 50%;\n",
              "      cursor: pointer;\n",
              "      display: none;\n",
              "      fill: #1967D2;\n",
              "      height: 32px;\n",
              "      padding: 0 0 0 0;\n",
              "      width: 32px;\n",
              "    }\n",
              "\n",
              "    .colab-df-convert:hover {\n",
              "      background-color: #E2EBFA;\n",
              "      box-shadow: 0px 1px 2px rgba(60, 64, 67, 0.3), 0px 1px 3px 1px rgba(60, 64, 67, 0.15);\n",
              "      fill: #174EA6;\n",
              "    }\n",
              "\n",
              "    [theme=dark] .colab-df-convert {\n",
              "      background-color: #3B4455;\n",
              "      fill: #D2E3FC;\n",
              "    }\n",
              "\n",
              "    [theme=dark] .colab-df-convert:hover {\n",
              "      background-color: #434B5C;\n",
              "      box-shadow: 0px 1px 3px 1px rgba(0, 0, 0, 0.15);\n",
              "      filter: drop-shadow(0px 1px 2px rgba(0, 0, 0, 0.3));\n",
              "      fill: #FFFFFF;\n",
              "    }\n",
              "  </style>\n",
              "\n",
              "      <script>\n",
              "        const buttonEl =\n",
              "          document.querySelector('#df-ede0e5e3-6bed-4e3d-a40b-e33803a25c1b button.colab-df-convert');\n",
              "        buttonEl.style.display =\n",
              "          google.colab.kernel.accessAllowed ? 'block' : 'none';\n",
              "\n",
              "        async function convertToInteractive(key) {\n",
              "          const element = document.querySelector('#df-ede0e5e3-6bed-4e3d-a40b-e33803a25c1b');\n",
              "          const dataTable =\n",
              "            await google.colab.kernel.invokeFunction('convertToInteractive',\n",
              "                                                     [key], {});\n",
              "          if (!dataTable) return;\n",
              "\n",
              "          const docLinkHtml = 'Like what you see? Visit the ' +\n",
              "            '<a target=\"_blank\" href=https://colab.research.google.com/notebooks/data_table.ipynb>data table notebook</a>'\n",
              "            + ' to learn more about interactive tables.';\n",
              "          element.innerHTML = '';\n",
              "          dataTable['output_type'] = 'display_data';\n",
              "          await google.colab.output.renderOutput(dataTable, element);\n",
              "          const docLink = document.createElement('div');\n",
              "          docLink.innerHTML = docLinkHtml;\n",
              "          element.appendChild(docLink);\n",
              "        }\n",
              "      </script>\n",
              "    </div>\n",
              "  </div>\n",
              "  "
            ]
          },
          "metadata": {},
          "execution_count": 10
        }
      ]
    },
    {
      "cell_type": "markdown",
      "metadata": {
        "id": "HP-zhswYAns5"
      },
      "source": [
        "####Realiza leitura do arquivo de classe"
      ]
    },
    {
      "cell_type": "code",
      "execution_count": 12,
      "metadata": {
        "id": "a9OwUuA5Z1-I"
      },
      "outputs": [],
      "source": [
        "df_class = drive.CreateFile({'id': '1ekH65fFYHYYeMRw8K0LjMM9IA73nQIdd'})\n",
        "df_class.GetContentFile('embedding_xy_class.csv')\n",
        "df_class = pd.read_csv('embedding_xy_class.csv', sep=',')"
      ]
    },
    {
      "cell_type": "code",
      "execution_count": 13,
      "metadata": {
        "colab": {
          "base_uri": "https://localhost:8080/"
        },
        "id": "3yTFoOkaNYM3",
        "outputId": "ce22ef94-d631-4e9a-c2cb-827ddb4e49ec"
      },
      "outputs": [
        {
          "output_type": "execute_result",
          "data": {
            "text/plain": [
              "1036"
            ]
          },
          "metadata": {},
          "execution_count": 13
        }
      ],
      "source": [
        "df_class['classificador'].count()"
      ]
    },
    {
      "cell_type": "code",
      "source": [
        "df_class = df_class[:1000]"
      ],
      "metadata": {
        "id": "hqnJUwWqcO-W"
      },
      "execution_count": 14,
      "outputs": []
    },
    {
      "cell_type": "code",
      "source": [
        "df = df[:1000]"
      ],
      "metadata": {
        "id": "0Ewvi6EZSr4w"
      },
      "execution_count": 15,
      "outputs": []
    },
    {
      "cell_type": "code",
      "execution_count": 16,
      "metadata": {
        "colab": {
          "base_uri": "https://localhost:8080/",
          "height": 206
        },
        "id": "PqH3zdG5AtVw",
        "outputId": "2427a868-dcc3-4164-af6a-28889bda2f9f"
      },
      "outputs": [
        {
          "output_type": "execute_result",
          "data": {
            "text/plain": [
              "   Unnamed: 0   word            x            y  classificador\n",
              "0           0  [CLS]   12.043.171   -4.022.194            0.0\n",
              "1           1  asset  -12.207.879  -21.765.024            0.0\n",
              "2           2   data  -28.876.194  -13.066.323            0.0\n",
              "3           3   does  -54.689.423   53.375.206            0.0\n",
              "4           4    not   -6.650.298   10.505.768            0.0"
            ],
            "text/html": [
              "\n",
              "  <div id=\"df-9d37c141-7fe0-4b3a-9117-bb991ad5b68e\">\n",
              "    <div class=\"colab-df-container\">\n",
              "      <div>\n",
              "<style scoped>\n",
              "    .dataframe tbody tr th:only-of-type {\n",
              "        vertical-align: middle;\n",
              "    }\n",
              "\n",
              "    .dataframe tbody tr th {\n",
              "        vertical-align: top;\n",
              "    }\n",
              "\n",
              "    .dataframe thead th {\n",
              "        text-align: right;\n",
              "    }\n",
              "</style>\n",
              "<table border=\"1\" class=\"dataframe\">\n",
              "  <thead>\n",
              "    <tr style=\"text-align: right;\">\n",
              "      <th></th>\n",
              "      <th>Unnamed: 0</th>\n",
              "      <th>word</th>\n",
              "      <th>x</th>\n",
              "      <th>y</th>\n",
              "      <th>classificador</th>\n",
              "    </tr>\n",
              "  </thead>\n",
              "  <tbody>\n",
              "    <tr>\n",
              "      <th>0</th>\n",
              "      <td>0</td>\n",
              "      <td>[CLS]</td>\n",
              "      <td>12.043.171</td>\n",
              "      <td>-4.022.194</td>\n",
              "      <td>0.0</td>\n",
              "    </tr>\n",
              "    <tr>\n",
              "      <th>1</th>\n",
              "      <td>1</td>\n",
              "      <td>asset</td>\n",
              "      <td>-12.207.879</td>\n",
              "      <td>-21.765.024</td>\n",
              "      <td>0.0</td>\n",
              "    </tr>\n",
              "    <tr>\n",
              "      <th>2</th>\n",
              "      <td>2</td>\n",
              "      <td>data</td>\n",
              "      <td>-28.876.194</td>\n",
              "      <td>-13.066.323</td>\n",
              "      <td>0.0</td>\n",
              "    </tr>\n",
              "    <tr>\n",
              "      <th>3</th>\n",
              "      <td>3</td>\n",
              "      <td>does</td>\n",
              "      <td>-54.689.423</td>\n",
              "      <td>53.375.206</td>\n",
              "      <td>0.0</td>\n",
              "    </tr>\n",
              "    <tr>\n",
              "      <th>4</th>\n",
              "      <td>4</td>\n",
              "      <td>not</td>\n",
              "      <td>-6.650.298</td>\n",
              "      <td>10.505.768</td>\n",
              "      <td>0.0</td>\n",
              "    </tr>\n",
              "  </tbody>\n",
              "</table>\n",
              "</div>\n",
              "      <button class=\"colab-df-convert\" onclick=\"convertToInteractive('df-9d37c141-7fe0-4b3a-9117-bb991ad5b68e')\"\n",
              "              title=\"Convert this dataframe to an interactive table.\"\n",
              "              style=\"display:none;\">\n",
              "        \n",
              "  <svg xmlns=\"http://www.w3.org/2000/svg\" height=\"24px\"viewBox=\"0 0 24 24\"\n",
              "       width=\"24px\">\n",
              "    <path d=\"M0 0h24v24H0V0z\" fill=\"none\"/>\n",
              "    <path d=\"M18.56 5.44l.94 2.06.94-2.06 2.06-.94-2.06-.94-.94-2.06-.94 2.06-2.06.94zm-11 1L8.5 8.5l.94-2.06 2.06-.94-2.06-.94L8.5 2.5l-.94 2.06-2.06.94zm10 10l.94 2.06.94-2.06 2.06-.94-2.06-.94-.94-2.06-.94 2.06-2.06.94z\"/><path d=\"M17.41 7.96l-1.37-1.37c-.4-.4-.92-.59-1.43-.59-.52 0-1.04.2-1.43.59L10.3 9.45l-7.72 7.72c-.78.78-.78 2.05 0 2.83L4 21.41c.39.39.9.59 1.41.59.51 0 1.02-.2 1.41-.59l7.78-7.78 2.81-2.81c.8-.78.8-2.07 0-2.86zM5.41 20L4 18.59l7.72-7.72 1.47 1.35L5.41 20z\"/>\n",
              "  </svg>\n",
              "      </button>\n",
              "      \n",
              "  <style>\n",
              "    .colab-df-container {\n",
              "      display:flex;\n",
              "      flex-wrap:wrap;\n",
              "      gap: 12px;\n",
              "    }\n",
              "\n",
              "    .colab-df-convert {\n",
              "      background-color: #E8F0FE;\n",
              "      border: none;\n",
              "      border-radius: 50%;\n",
              "      cursor: pointer;\n",
              "      display: none;\n",
              "      fill: #1967D2;\n",
              "      height: 32px;\n",
              "      padding: 0 0 0 0;\n",
              "      width: 32px;\n",
              "    }\n",
              "\n",
              "    .colab-df-convert:hover {\n",
              "      background-color: #E2EBFA;\n",
              "      box-shadow: 0px 1px 2px rgba(60, 64, 67, 0.3), 0px 1px 3px 1px rgba(60, 64, 67, 0.15);\n",
              "      fill: #174EA6;\n",
              "    }\n",
              "\n",
              "    [theme=dark] .colab-df-convert {\n",
              "      background-color: #3B4455;\n",
              "      fill: #D2E3FC;\n",
              "    }\n",
              "\n",
              "    [theme=dark] .colab-df-convert:hover {\n",
              "      background-color: #434B5C;\n",
              "      box-shadow: 0px 1px 3px 1px rgba(0, 0, 0, 0.15);\n",
              "      filter: drop-shadow(0px 1px 2px rgba(0, 0, 0, 0.3));\n",
              "      fill: #FFFFFF;\n",
              "    }\n",
              "  </style>\n",
              "\n",
              "      <script>\n",
              "        const buttonEl =\n",
              "          document.querySelector('#df-9d37c141-7fe0-4b3a-9117-bb991ad5b68e button.colab-df-convert');\n",
              "        buttonEl.style.display =\n",
              "          google.colab.kernel.accessAllowed ? 'block' : 'none';\n",
              "\n",
              "        async function convertToInteractive(key) {\n",
              "          const element = document.querySelector('#df-9d37c141-7fe0-4b3a-9117-bb991ad5b68e');\n",
              "          const dataTable =\n",
              "            await google.colab.kernel.invokeFunction('convertToInteractive',\n",
              "                                                     [key], {});\n",
              "          if (!dataTable) return;\n",
              "\n",
              "          const docLinkHtml = 'Like what you see? Visit the ' +\n",
              "            '<a target=\"_blank\" href=https://colab.research.google.com/notebooks/data_table.ipynb>data table notebook</a>'\n",
              "            + ' to learn more about interactive tables.';\n",
              "          element.innerHTML = '';\n",
              "          dataTable['output_type'] = 'display_data';\n",
              "          await google.colab.output.renderOutput(dataTable, element);\n",
              "          const docLink = document.createElement('div');\n",
              "          docLink.innerHTML = docLinkHtml;\n",
              "          element.appendChild(docLink);\n",
              "        }\n",
              "      </script>\n",
              "    </div>\n",
              "  </div>\n",
              "  "
            ]
          },
          "metadata": {},
          "execution_count": 16
        }
      ],
      "source": [
        "df_class.head()"
      ]
    },
    {
      "cell_type": "code",
      "source": [
        "df['classificador'] = ''\n",
        "\n",
        "for index, row in df_class.iterrows():\n",
        "    df['classificador']= df_class['classificador'].astype(int)"
      ],
      "metadata": {
        "id": "1KxwOODoSkLF"
      },
      "execution_count": 17,
      "outputs": []
    },
    {
      "cell_type": "markdown",
      "source": [
        "####Ajuste do DataFrame para implementar o treino"
      ],
      "metadata": {
        "id": "HF04TLFNDs3A"
      }
    },
    {
      "cell_type": "code",
      "source": [
        "df.info()"
      ],
      "metadata": {
        "colab": {
          "base_uri": "https://localhost:8080/"
        },
        "id": "Xc2dk7-OD82o",
        "outputId": "61494b01-a2c6-4502-d5e8-161d646f83c4"
      },
      "execution_count": 18,
      "outputs": [
        {
          "output_type": "stream",
          "name": "stdout",
          "text": [
            "<class 'pandas.core.frame.DataFrame'>\n",
            "RangeIndex: 1000 entries, 0 to 999\n",
            "Data columns (total 4 columns):\n",
            " #   Column         Non-Null Count  Dtype  \n",
            "---  ------         --------------  -----  \n",
            " 0   x              1000 non-null   float32\n",
            " 1   y              1000 non-null   float32\n",
            " 2   word           999 non-null    object \n",
            " 3   classificador  1000 non-null   int64  \n",
            "dtypes: float32(2), int64(1), object(1)\n",
            "memory usage: 23.6+ KB\n"
          ]
        }
      ]
    },
    {
      "cell_type": "code",
      "source": [
        "df.iloc[:, 0:2].values"
      ],
      "metadata": {
        "colab": {
          "base_uri": "https://localhost:8080/"
        },
        "id": "J_Z4ZvMqI31R",
        "outputId": "6fda4710-1cb6-4a43-aa58-3509c63867af"
      },
      "execution_count": 19,
      "outputs": [
        {
          "output_type": "execute_result",
          "data": {
            "text/plain": [
              "array([[  9.866446 ,  54.24126  ],\n",
              "       [  0.8191893,  23.220118 ],\n",
              "       [-19.974607 ,  25.10714  ],\n",
              "       ...,\n",
              "       [-34.67996  , -29.43336  ],\n",
              "       [-49.478603 , -45.80111  ],\n",
              "       [-21.764597 ,  14.604484 ]], dtype=float32)"
            ]
          },
          "metadata": {},
          "execution_count": 19
        }
      ]
    },
    {
      "cell_type": "code",
      "source": [
        "X = df.iloc[:, 0:2].values\n",
        "X"
      ],
      "metadata": {
        "colab": {
          "base_uri": "https://localhost:8080/"
        },
        "id": "Z9gAaRcWFcFT",
        "outputId": "5e6a3ec5-587a-476a-cc00-cab061903313"
      },
      "execution_count": 20,
      "outputs": [
        {
          "output_type": "execute_result",
          "data": {
            "text/plain": [
              "array([[  9.866446 ,  54.24126  ],\n",
              "       [  0.8191893,  23.220118 ],\n",
              "       [-19.974607 ,  25.10714  ],\n",
              "       ...,\n",
              "       [-34.67996  , -29.43336  ],\n",
              "       [-49.478603 , -45.80111  ],\n",
              "       [-21.764597 ,  14.604484 ]], dtype=float32)"
            ]
          },
          "metadata": {},
          "execution_count": 20
        }
      ]
    },
    {
      "cell_type": "code",
      "source": [
        "y = df['classificador'].values\n",
        "y"
      ],
      "metadata": {
        "colab": {
          "base_uri": "https://localhost:8080/"
        },
        "id": "aguWzOYjF87s",
        "outputId": "8043fe37-2b78-46c5-a4c2-31fd15a85107"
      },
      "execution_count": 21,
      "outputs": [
        {
          "output_type": "execute_result",
          "data": {
            "text/plain": [
              "array([0, 0, 0, 0, 0, 0, 0, 0, 0, 0, 0, 0, 0, 0, 0, 0, 0, 0, 0, 0, 0, 0,\n",
              "       0, 0, 0, 0, 0, 0, 0, 0, 0, 0, 0, 0, 0, 0, 0, 0, 0, 0, 0, 0, 1, 1,\n",
              "       1, 0, 0, 0, 0, 0, 0, 0, 0, 0, 0, 0, 0, 0, 0, 0, 0, 0, 0, 1, 0, 0,\n",
              "       0, 0, 0, 0, 0, 0, 0, 0, 0, 0, 0, 0, 0, 0, 0, 0, 0, 0, 0, 0, 0, 0,\n",
              "       0, 0, 0, 0, 0, 0, 0, 0, 0, 0, 0, 0, 0, 0, 0, 0, 0, 0, 0, 0, 0, 0,\n",
              "       0, 0, 0, 0, 0, 0, 0, 0, 0, 0, 0, 0, 0, 0, 0, 0, 0, 0, 0, 0, 0, 0,\n",
              "       0, 0, 0, 0, 0, 1, 1, 1, 1, 1, 1, 1, 1, 1, 1, 1, 1, 0, 0, 0, 0, 0,\n",
              "       0, 0, 0, 0, 0, 0, 0, 0, 0, 0, 0, 0, 0, 0, 0, 1, 0, 0, 1, 0, 0, 0,\n",
              "       1, 0, 0, 1, 1, 1, 1, 1, 1, 1, 1, 1, 1, 1, 1, 1, 1, 1, 1, 1, 1, 1,\n",
              "       1, 1, 1, 1, 1, 1, 1, 1, 1, 1, 1, 1, 1, 1, 0, 0, 0, 0, 0, 0, 1, 0,\n",
              "       1, 1, 1, 1, 1, 1, 1, 1, 1, 1, 1, 1, 1, 1, 1, 1, 1, 1, 0, 0, 0, 0,\n",
              "       0, 0, 0, 0, 0, 0, 0, 0, 0, 1, 0, 0, 0, 0, 0, 0, 0, 1, 0, 0, 0, 0,\n",
              "       0, 0, 0, 0, 0, 0, 0, 0, 0, 0, 0, 0, 0, 0, 0, 0, 0, 0, 0, 0, 0, 0,\n",
              "       0, 0, 0, 0, 0, 0, 0, 0, 0, 0, 0, 0, 0, 0, 0, 0, 0, 0, 0, 0, 0, 0,\n",
              "       0, 0, 0, 0, 0, 0, 0, 0, 0, 0, 1, 0, 0, 0, 0, 0, 0, 0, 0, 0, 0, 0,\n",
              "       0, 0, 0, 0, 0, 0, 0, 0, 1, 1, 1, 1, 1, 1, 0, 0, 0, 1, 1, 1, 1, 0,\n",
              "       0, 0, 0, 0, 0, 0, 1, 0, 0, 0, 0, 0, 0, 0, 0, 0, 0, 0, 0, 0, 0, 0,\n",
              "       0, 0, 0, 1, 1, 1, 1, 1, 1, 1, 1, 1, 1, 1, 1, 1, 1, 1, 1, 1, 1, 1,\n",
              "       1, 1, 1, 1, 1, 0, 0, 0, 0, 0, 0, 0, 1, 1, 1, 0, 0, 0, 0, 0, 1, 0,\n",
              "       1, 1, 1, 1, 1, 1, 1, 1, 1, 1, 1, 1, 1, 1, 1, 1, 0, 0, 0, 0, 0, 0,\n",
              "       0, 0, 0, 0, 0, 0, 0, 0, 0, 0, 0, 0, 0, 0, 0, 0, 0, 0, 1, 1, 1, 1,\n",
              "       1, 1, 1, 1, 1, 1, 1, 1, 1, 1, 1, 1, 0, 0, 0, 0, 0, 0, 0, 0, 0, 1,\n",
              "       0, 0, 0, 1, 0, 0, 0, 1, 1, 1, 1, 1, 1, 1, 0, 0, 0, 0, 1, 1, 1, 1,\n",
              "       1, 1, 1, 1, 1, 0, 0, 0, 0, 0, 0, 0, 0, 0, 0, 0, 0, 0, 1, 0, 0, 0,\n",
              "       0, 0, 0, 0, 0, 0, 0, 0, 0, 0, 0, 0, 0, 0, 1, 1, 1, 1, 1, 1, 1, 1,\n",
              "       1, 1, 1, 0, 0, 0, 0, 0, 0, 0, 0, 0, 0, 0, 0, 0, 0, 0, 0, 0, 0, 0,\n",
              "       0, 0, 0, 0, 0, 0, 0, 0, 0, 0, 0, 0, 0, 0, 0, 0, 0, 0, 0, 0, 0, 0,\n",
              "       0, 0, 0, 0, 0, 0, 0, 0, 0, 0, 0, 0, 0, 0, 0, 0, 0, 0, 0, 0, 1, 1,\n",
              "       1, 1, 1, 0, 0, 0, 0, 0, 0, 0, 0, 0, 1, 1, 1, 1, 1, 1, 1, 1, 1, 1,\n",
              "       1, 0, 0, 1, 1, 1, 1, 1, 0, 0, 0, 0, 0, 0, 0, 0, 0, 0, 0, 0, 0, 0,\n",
              "       0, 0, 1, 1, 1, 1, 1, 0, 0, 0, 0, 0, 0, 0, 0, 0, 1, 1, 1, 1, 1, 1,\n",
              "       1, 1, 1, 1, 0, 1, 1, 1, 1, 1, 1, 1, 0, 0, 0, 0, 1, 1, 1, 1, 1, 1,\n",
              "       1, 1, 1, 1, 1, 1, 1, 0, 0, 0, 0, 0, 0, 0, 1, 1, 1, 1, 1, 1, 1, 1,\n",
              "       1, 1, 1, 1, 1, 0, 1, 1, 1, 0, 0, 0, 0, 0, 0, 0, 0, 0, 0, 1, 1, 1,\n",
              "       1, 0, 0, 0, 0, 0, 0, 0, 0, 1, 0, 0, 0, 0, 0, 0, 0, 0, 0, 0, 0, 1,\n",
              "       1, 1, 1, 1, 1, 1, 1, 1, 1, 1, 1, 1, 1, 1, 0, 0, 0, 0, 1, 0, 0, 0,\n",
              "       0, 0, 0, 0, 0, 0, 0, 0, 0, 0, 1, 1, 1, 1, 1, 1, 1, 1, 1, 1, 1, 1,\n",
              "       1, 0, 0, 0, 0, 0, 0, 0, 0, 0, 0, 0, 0, 0, 0, 0, 0, 0, 0, 0, 0, 0,\n",
              "       0, 0, 0, 0, 0, 0, 0, 0, 0, 0, 0, 0, 0, 0, 0, 0, 0, 0, 0, 0, 0, 0,\n",
              "       0, 1, 1, 1, 1, 1, 1, 0, 0, 1, 1, 1, 1, 1, 1, 1, 0, 0, 0, 0, 0, 0,\n",
              "       0, 0, 0, 0, 0, 0, 0, 0, 0, 0, 0, 0, 0, 0, 0, 0, 1, 0, 0, 1, 0, 0,\n",
              "       0, 0, 0, 0, 0, 0, 0, 0, 0, 0, 0, 0, 0, 0, 0, 0, 0, 0, 0, 0, 0, 0,\n",
              "       0, 0, 0, 0, 0, 0, 0, 0, 0, 0, 0, 0, 0, 0, 0, 0, 0, 0, 0, 0, 0, 0,\n",
              "       0, 0, 0, 0, 0, 0, 1, 1, 1, 1, 1, 1, 1, 1, 1, 0, 0, 0, 0, 0, 0, 0,\n",
              "       0, 0, 0, 0, 0, 0, 0, 0, 0, 0, 0, 0, 0, 0, 0, 0, 0, 0, 0, 0, 0, 0,\n",
              "       0, 0, 0, 0, 0, 0, 0, 0, 0, 0])"
            ]
          },
          "metadata": {},
          "execution_count": 21
        }
      ]
    },
    {
      "cell_type": "markdown",
      "source": [
        "####Separação dos dados de treino e teste"
      ],
      "metadata": {
        "id": "iRB0XjIPV0HU"
      }
    },
    {
      "cell_type": "code",
      "source": [
        "X_train, X_test, y_train, y_test = train_test_split(X, y, test_size=0.2, shuffle=True, random_state=1, stratify=y)"
      ],
      "metadata": {
        "id": "QzzBnlkiVx4T"
      },
      "execution_count": 22,
      "outputs": []
    },
    {
      "cell_type": "markdown",
      "source": [
        "###Realizando treinamento\n",
        "\n",
        "---\n",
        "\n"
      ],
      "metadata": {
        "id": "ut4KQZbEd5yI"
      }
    },
    {
      "cell_type": "markdown",
      "metadata": {
        "id": "CvFkgkzHtDrI"
      },
      "source": [
        "####Utilizando GridSearch para busca dos melhores parâmetros"
      ]
    },
    {
      "cell_type": "code",
      "metadata": {
        "id": "dVqUkyijlXap"
      },
      "source": [
        "param_grid = {\n",
        "    \"criterion\" : ['gini', 'entropy'],\n",
        "    \"splitter\": ['best', 'random'],\n",
        "    'min_samples_split': [2, 5, 10],\n",
        "    \"min_samples_leaf\": [1, 5, 10]\n",
        "}\n",
        "\n",
        "grid_search = GridSearchCV(estimator=DecisionTreeClassifier(), param_grid=param_grid)\n",
        "grid_search.fit(X_train, y_train)"
      ],
      "execution_count": 23,
      "outputs": []
    },
    {
      "cell_type": "markdown",
      "metadata": {
        "id": "qYVxCm5xtFFE"
      },
      "source": [
        "####Verificando scores obtidos"
      ]
    },
    {
      "cell_type": "code",
      "metadata": {
        "colab": {
          "base_uri": "https://localhost:8080/"
        },
        "id": "Bq6pSda7oMzr",
        "outputId": "e432bc8a-70fc-4fae-9341-e2b9d84a9554"
      },
      "source": [
        "grid_search.cv_results_['mean_test_score']"
      ],
      "execution_count": 25,
      "outputs": [
        {
          "output_type": "execute_result",
          "data": {
            "text/plain": [
              "array([0.7625 , 0.74   , 0.7725 , 0.7875 , 0.78625, 0.81375, 0.77375,\n",
              "       0.82125, 0.775  , 0.82875, 0.77375, 0.815  , 0.82875, 0.79875,\n",
              "       0.82875, 0.80875, 0.82875, 0.7975 , 0.76625, 0.7675 , 0.77625,\n",
              "       0.7825 , 0.77625, 0.8225 , 0.77375, 0.83125, 0.77625, 0.80125,\n",
              "       0.78   , 0.80375, 0.815  , 0.8075 , 0.815  , 0.82125, 0.81875,\n",
              "       0.825  ])"
            ]
          },
          "metadata": {},
          "execution_count": 25
        }
      ]
    },
    {
      "cell_type": "markdown",
      "metadata": {
        "id": "jhBWBYkbtIxb"
      },
      "source": [
        "####Verificando melho score e melhores parâmetros"
      ]
    },
    {
      "cell_type": "code",
      "metadata": {
        "colab": {
          "base_uri": "https://localhost:8080/"
        },
        "id": "cW9OZps6othL",
        "outputId": "b9510bec-af38-4dac-b2f0-3f9f30fd48c2"
      },
      "source": [
        "print(grid_search.best_score_)\n",
        "print(grid_search.best_params_)"
      ],
      "execution_count": 26,
      "outputs": [
        {
          "output_type": "stream",
          "name": "stdout",
          "text": [
            "0.83125\n",
            "{'criterion': 'entropy', 'min_samples_leaf': 5, 'min_samples_split': 2, 'splitter': 'random'}\n"
          ]
        }
      ]
    },
    {
      "cell_type": "markdown",
      "metadata": {
        "id": "iruLnwVBtOS6"
      },
      "source": [
        "####Utilizando melhor classificador obtido"
      ]
    },
    {
      "cell_type": "code",
      "metadata": {
        "id": "qjkkXtvKpTbM"
      },
      "source": [
        "new_classifier=grid_search.best_estimator_\n",
        "y_test_pred=new_classifier.predict(X_test)"
      ],
      "execution_count": 27,
      "outputs": []
    },
    {
      "cell_type": "markdown",
      "metadata": {
        "id": "NnF8OCFxtYZg"
      },
      "source": [
        "####Verificando score"
      ]
    },
    {
      "cell_type": "code",
      "metadata": {
        "colab": {
          "base_uri": "https://localhost:8080/"
        },
        "id": "N2wA40rbpguD",
        "outputId": "4674039f-c8bc-4c8c-b384-d5fded1bc96e"
      },
      "source": [
        "accuracy_score(y_test, y_test_pred)"
      ],
      "execution_count": 28,
      "outputs": [
        {
          "output_type": "execute_result",
          "data": {
            "text/plain": [
              "0.82"
            ]
          },
          "metadata": {},
          "execution_count": 28
        }
      ]
    },
    {
      "cell_type": "code",
      "source": [
        "precision_recall_fscore_support(y_test, y_test_pred, average='macro')"
      ],
      "metadata": {
        "colab": {
          "base_uri": "https://localhost:8080/"
        },
        "id": "V5RhaSVoDDth",
        "outputId": "b5100d87-8fb8-4ae4-eca8-26fedff2cebc"
      },
      "execution_count": 29,
      "outputs": [
        {
          "output_type": "execute_result",
          "data": {
            "text/plain": [
              "(0.8050179211469535, 0.7509140228800566, 0.7689641894493646, None)"
            ]
          },
          "metadata": {},
          "execution_count": 29
        }
      ]
    },
    {
      "cell_type": "code",
      "source": [
        "precision_recall_fscore_support(y_test, y_test_pred, average='micro')"
      ],
      "metadata": {
        "colab": {
          "base_uri": "https://localhost:8080/"
        },
        "id": "GMMV_1vMEKpv",
        "outputId": "bea21ff9-30e6-4706-89d2-e8e1f343bdc7"
      },
      "execution_count": 30,
      "outputs": [
        {
          "output_type": "execute_result",
          "data": {
            "text/plain": [
              "(0.82, 0.82, 0.82, None)"
            ]
          },
          "metadata": {},
          "execution_count": 30
        }
      ]
    },
    {
      "cell_type": "code",
      "source": [
        "precision_recall_fscore_support(y_test, y_test_pred, average='weighted')"
      ],
      "metadata": {
        "colab": {
          "base_uri": "https://localhost:8080/"
        },
        "id": "y-zZOP1LELtp",
        "outputId": "7a425063-493c-4edc-fe40-2cbd6324467d"
      },
      "execution_count": 31,
      "outputs": [
        {
          "output_type": "execute_result",
          "data": {
            "text/plain": [
              "(0.815641577060932, 0.82, 0.8113130535232962, None)"
            ]
          },
          "metadata": {},
          "execution_count": 31
        }
      ]
    }
  ]
}